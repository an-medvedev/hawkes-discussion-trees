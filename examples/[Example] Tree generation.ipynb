{
 "cells": [
  {
   "cell_type": "code",
   "execution_count": 1,
   "metadata": {},
   "outputs": [],
   "source": [
    "import hawkes_model as hx\n",
    "import networkx as nx\n",
    "import pickle\n",
    "from copy import deepcopy\n",
    "import numpy as np"
   ]
  },
  {
   "cell_type": "markdown",
   "metadata": {},
   "source": [
    "# Generate Hawkes discussion tree\n",
    "\n",
    "In the following example we generate the Hawkes discussion tree given the parameter values."
   ]
  },
  {
   "cell_type": "code",
   "execution_count": 9,
   "metadata": {},
   "outputs": [
    {
     "name": "stdout",
     "output_type": "stream",
     "text": [
      "True Name: \n",
      "Type: Graph\n",
      "Number of nodes: 190\n",
      "Number of edges: 189\n",
      "Average degree:   1.9895\n",
      "First 10 times:\n",
      " [28.586294735903248, 66.29287177550744, 79.93189892318777, 123.28877922867711, 143.80314826298286, 156.70071211930377, 160.45240555216265, 162.87416824407532, 163.80320339982472, 179.060525792733]\n"
     ]
    }
   ],
   "source": [
    "mu_params = (100, 500, 1.9)\n",
    "phi_params = (4.2, 1.68, 0.6)\n",
    "tree, success = hx.generation.hawkes_comment_tree(mu_params, phi_params, 7200, 1400)\n",
    "timeseries = hx.get_timeseries_from_tree(tree)\n",
    "print(success, nx.info(tree))\n",
    "print(\"First 10 times:\\n\", timeseries[:10])"
   ]
  },
  {
   "cell_type": "markdown",
   "metadata": {},
   "source": [
    "# Continue generating a discussion tree using Hawkes process\n",
    "\n",
    "In the following example, we first truncate the previously generated tree at `time = 500` and generate the rest of tree using the Hawkes discussion tree model with initial parameter values."
   ]
  },
  {
   "cell_type": "code",
   "execution_count": 55,
   "metadata": {},
   "outputs": [
    {
     "name": "stdout",
     "output_type": "stream",
     "text": [
      "Size truncated tree: 79\n",
      "   ------------- \n",
      "Size real tree: 190\n",
      "Size generated tree: 150\n"
     ]
    }
   ],
   "source": [
    "s_time = 500\n",
    "trunc_tree = hx.truncate_tree_by_time(tree, s_time)\n",
    "print(\"Size truncated tree:\", len(trunc_tree))\n",
    "print(\"   ------------- \")\n",
    "gen_tree, success = hx.generation.continue_hawkes_comment_tree(trunc_tree, s_time, mu_params, phi_params, \n",
    "                                                     7200, 1400, limit_tree_size = 1000)\n",
    "print(\"Size real tree:\", len(tree))\n",
    "print(\"Size generated tree:\", len(gen_tree))"
   ]
  },
  {
   "cell_type": "markdown",
   "metadata": {},
   "source": [
    "# Generate other stuff"
   ]
  },
  {
   "cell_type": "markdown",
   "metadata": {},
   "source": [
    "## Generate Poisson process with Weibull pdf intensity function\n",
    "\n",
    "The arrival times of the Poisson process with Weibull intensity are modelled as follows. "
   ]
  },
  {
   "cell_type": "code",
   "execution_count": 6,
   "metadata": {},
   "outputs": [
    {
     "name": "stdout",
     "output_type": "stream",
     "text": [
      "Generated events: 82\n",
      "First 10 times:\n",
      " [29.249554394061743, 60.2557371773945, 69.07501075283758, 69.49590635085256, 77.77082048172828, 111.50420601148907, 116.94862848815055, 130.87558013900724, 140.0345886110415, 161.65792873629644]\n"
     ]
    }
   ],
   "source": [
    "mu_params = (100, 500, 1.9)\n",
    "weib_arrival_times = hx.generation.weibull_poisson_times(*mu_params)\n",
    "print(\"Generated events:\", len(weib_arrival_times))\n",
    "print(\"First 10 times:\\n\", weib_arrival_times[:10])"
   ]
  },
  {
   "cell_type": "markdown",
   "metadata": {},
   "source": [
    "## Generate Poisson process with LogNormal pdf intensity function\n",
    "\n",
    "The arrival times of the Poisson process with LogNormal intensity are modelled as follows. "
   ]
  },
  {
   "cell_type": "code",
   "execution_count": 75,
   "metadata": {},
   "outputs": [
    {
     "name": "stdout",
     "output_type": "stream",
     "text": [
      "Generated events: 1\n",
      "First 10 times:\n",
      " [3.35208873940046]\n"
     ]
    }
   ],
   "source": [
    "phi_params = (2.2, 1.68, 0.95)\n",
    "lognorm_arrival_times = hx.generation.lognormal_poisson_times(*phi_params)\n",
    "print(\"Generated events:\", len(lognorm_arrival_times))\n",
    "print(\"First 10 times:\\n\", lognorm_arrival_times[:10])"
   ]
  },
  {
   "cell_type": "markdown",
   "metadata": {},
   "source": [
    "## Test how exposed portion of the original tree influences the quality of Hawkes prediction"
   ]
  },
  {
   "cell_type": "code",
   "execution_count": 79,
   "metadata": {},
   "outputs": [
    {
     "name": "stdout",
     "output_type": "stream",
     "text": [
      "Tree size: 179\n",
      "Last 10 times:\n",
      " [1162.6713569719627, 1259.521694069727, 1287.4089856137384, 1360.1280085541764, 1395.0759096928093, 1637.3136760729024, 1659.7026290031902, 1952.16393080832, 2289.3375416087338, 2294.928527801932]\n"
     ]
    }
   ],
   "source": [
    "mu_params = (100, 500, 1.9)\n",
    "phi_params = (4.2, 1.68, 0.6)\n",
    "tree, success = hx.generation.hawkes_comment_tree(mu_params, phi_params, 7200, 1400)\n",
    "timeseries = hx.get_timeseries_from_tree(tree)\n",
    "print(\"Tree size:\", len(tree))\n",
    "print(\"Last 10 times:\\n\", timeseries[-10:])"
   ]
  },
  {
   "cell_type": "code",
   "execution_count": 82,
   "metadata": {},
   "outputs": [
    {
     "name": "stderr",
     "output_type": "stream",
     "text": [
      "100%|██████████| 10000/10000 [05:23<00:00, 30.95it/s]\n",
      "100%|██████████| 10000/10000 [04:39<00:00, 35.73it/s]\n",
      "100%|██████████| 10000/10000 [03:53<00:00, 42.83it/s]\n",
      "100%|██████████| 10000/10000 [03:14<00:00, 51.34it/s]\n",
      "100%|██████████| 10000/10000 [02:37<00:00, 63.33it/s]\n",
      "100%|██████████| 10000/10000 [10:19<00:00, 16.15it/s]  \n",
      "100%|██████████| 10000/10000 [02:07<00:00, 78.44it/s]\n",
      "100%|██████████| 10000/10000 [01:47<00:00, 92.79it/s]\n",
      "100%|██████████| 10000/10000 [01:40<00:00, 99.75it/s]\n",
      "100%|██████████| 10000/10000 [01:29<00:00, 111.76it/s]\n",
      "100%|██████████| 10000/10000 [01:23<00:00, 120.12it/s]\n",
      "100%|██████████| 10000/10000 [01:18<00:00, 127.09it/s]\n",
      "100%|██████████| 10000/10000 [01:20<00:00, 124.13it/s]\n",
      "100%|██████████| 10000/10000 [01:15<00:00, 133.08it/s]\n",
      "100%|██████████| 10000/10000 [01:08<00:00, 147.02it/s]\n",
      "100%|██████████| 10000/10000 [01:17<00:00, 128.43it/s]\n",
      "100%|██████████| 10000/10000 [01:12<00:00, 150.52it/s]\n",
      "100%|██████████| 10000/10000 [01:10<00:00, 142.03it/s]"
     ]
    },
    {
     "name": "stdout",
     "output_type": "stream",
     "text": [
      "DONE!\n"
     ]
    },
    {
     "name": "stderr",
     "output_type": "stream",
     "text": [
      "\n"
     ]
    }
   ],
   "source": [
    "from tqdm import tqdm\n",
    "\n",
    "result_gen_sizes = []\n",
    "for s_time in np.arange(200, 2000, 100):\n",
    "    trunc_tree = hx.truncate_tree_by_time(tree, s_time)\n",
    "    gen_sizes = []\n",
    "    for i in tqdm(range(10000)):\n",
    "        gen_tree, success = hx.generation.continue_hawkes_comment_tree(trunc_tree, s_time, mu_params, phi_params, \n",
    "                                                     7200, 1400, limit_tree_size = 1000)\n",
    "        gen_sizes.append(len(gen_tree))\n",
    "    result_gen_sizes.append((len(trunc_tree), np.mean(gen_sizes)))\n",
    "print(\"DONE!\")"
   ]
  },
  {
   "cell_type": "code",
   "execution_count": 116,
   "metadata": {},
   "outputs": [
    {
     "data": {
      "image/png": "[encoded data removed]",
      "text/plain": [
       "<Figure size 432x288 with 1 Axes>"
      ]
     },
     "metadata": {
      "needs_background": "light"
     },
     "output_type": "display_data"
    }
   ],
   "source": [
    "import matplotlib.pyplot as plt\n",
    "\n",
    "X, Y = zip(*result_gen_sizes)\n",
    "Y_percent = [(1-y/len(tree)) for y in Y]\n",
    "X_percent = [x/len(tree) for x in X]\n",
    "plt.plot(X_percent, Y_percent, marker = 'o')\n",
    "# plt.plot([0,250], [len(tree),len(tree)], linewidth = 2, color = 'r')\n",
    "plt.title(\"Prediction of tree size vs. exposed initial part of the tree\")\n",
    "plt.ylabel(\"Mean Absolute Error | predicted tree size\")\n",
    "plt.xlabel(\"Portion of the tree exposed\")\n",
    "plt.show()"
   ]
  },
  {
   "cell_type": "code",
   "execution_count": null,
   "metadata": {},
   "outputs": [],
   "source": []
  }
 ],
 "metadata": {
  "kernelspec": {
   "display_name": "Python 3",
   "language": "python",
   "name": "python3"
  },
  "language_info": {
   "codemirror_mode": {
    "name": "ipython",
    "version": 3
   },
   "file_extension": ".py",
   "mimetype": "text/x-python",
   "name": "python",
   "nbconvert_exporter": "python",
   "pygments_lexer": "ipython3",
   "version": "3.7.3"
  }
 },
 "nbformat": 4,
 "nbformat_minor": 2
}
